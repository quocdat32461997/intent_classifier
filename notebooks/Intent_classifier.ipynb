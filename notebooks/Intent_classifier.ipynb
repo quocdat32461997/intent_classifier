{
 "cells": [
  {
   "cell_type": "markdown",
   "metadata": {},
   "source": [
    "# Intent Classification "
   ]
  },
  {
   "cell_type": "markdown",
   "metadata": {},
   "source": [
    "## Clinc 150 Dataset from UCI\n",
    "[An evaluation datset for intent classification and out-of-scope prediction.](https://archive.ics.uci.edu/ml/datasets/CLINC150)\n",
    "\n",
    "**Citation**\n",
    "* Stefan Larson, Anish Mahendran, Joseph J. Peper, Christopher Clarke, Andrew Lee, Parker Hill, Jonathan K. Kummerfeld, Kevin Leach, Michael A. Laurenzano, Lingjia Tang, and Jason Mars. 2019. An evaluation dataset for intent classification and out-of-scope prediction. In Proceedings of EMNLP-IJCNLP"
   ]
  },
  {
   "cell_type": "markdown",
   "metadata": {},
   "source": [
    "#### import dependencies"
   ]
  },
  {
   "cell_type": "code",
   "execution_count": 1,
   "metadata": {},
   "outputs": [],
   "source": [
    "import os\n",
    "import json\n",
    "import pickle\n",
    "import numpy as np\n",
    "from sklearn.svm import SVC\n",
    "from sklearn.preprocessing import LabelEncoder"
   ]
  },
  {
   "cell_type": "code",
   "execution_count": 2,
   "metadata": {},
   "outputs": [],
   "source": [
    "import nltk\n",
    "from nltk.tokenize import word_tokenize, RegexpTokenizer\n",
    "from nltk.corpus import stopwords\n",
    "stopwords = stopwords.words('english')"
   ]
  },
  {
   "cell_type": "code",
   "execution_count": 3,
   "metadata": {},
   "outputs": [],
   "source": [
    "tokenizer = RegexpTokenizer(r'\\w+')"
   ]
  },
  {
   "cell_type": "markdown",
   "metadata": {},
   "source": [
    "#### load data"
   ]
  },
  {
   "cell_type": "code",
   "execution_count": 4,
   "metadata": {},
   "outputs": [],
   "source": [
    "path = '../data/clinc150_uci/data_full.json'"
   ]
  },
  {
   "cell_type": "code",
   "execution_count": 5,
   "metadata": {},
   "outputs": [],
   "source": [
    "with open(path) as file:\n",
    "    data = json.load(file)"
   ]
  },
  {
   "cell_type": "code",
   "execution_count": 6,
   "metadata": {},
   "outputs": [
    {
     "data": {
      "text/plain": [
       "dict_keys(['oos_val', 'val', 'train', 'oos_test', 'test', 'oos_train'])"
      ]
     },
     "execution_count": 6,
     "metadata": {},
     "output_type": "execute_result"
    }
   ],
   "source": [
    "data.keys()"
   ]
  },
  {
   "cell_type": "markdown",
   "metadata": {},
   "source": [
    "#### collect texts and labels"
   ]
  },
  {
   "cell_type": "code",
   "execution_count": 7,
   "metadata": {},
   "outputs": [],
   "source": [
    "train_texts = []\n",
    "train_labels = []\n",
    "val_texts = []\n",
    "val_labels = []\n",
    "test_texts = []\n",
    "test_labels = []"
   ]
  },
  {
   "cell_type": "code",
   "execution_count": 17,
   "metadata": {},
   "outputs": [],
   "source": [
    "# collect texts and labels in train and oos_train set\n",
    "for item in data['train']:\n",
    "    train_texts.append(item[0])\n",
    "    train_labels.append(item[-1])\n",
    "# collect texts and labels in oos-train set\n",
    "for item in data['oos_train']:\n",
    "    train_texts.append(item[0])\n",
    "    train_labels.append(item[-1])"
   ]
  },
  {
   "cell_type": "code",
   "execution_count": 18,
   "metadata": {},
   "outputs": [],
   "source": [
    "# collect texts and labels in val and oos_val set\n",
    "for item in data['val']:\n",
    "    val_texts.append(item[0])\n",
    "    val_labels.append(item[-1])\n",
    "# collect texts and labels in oos-train set\n",
    "for item in data['oos_val']:\n",
    "    val_texts.append(item[0])\n",
    "    val_labels.append(item[-1])"
   ]
  },
  {
   "cell_type": "code",
   "execution_count": 19,
   "metadata": {},
   "outputs": [],
   "source": [
    "# collect texts and labels in test and oos_test set\n",
    "for item in data['test']:\n",
    "    test_texts.append(item[0])\n",
    "    test_labels.append(item[-1])\n",
    "# collect texts and labels in oos-train set\n",
    "for item in data['oos_test']:\n",
    "    test_texts.append(item[0])\n",
    "    test_labels.append(item[-1])"
   ]
  },
  {
   "cell_type": "code",
   "execution_count": 20,
   "metadata": {},
   "outputs": [
    {
     "data": {
      "text/plain": [
       "['order_checks',\n",
       " 'text',\n",
       " 'recipe',\n",
       " 'application_status',\n",
       " 'routing',\n",
       " 'card_declined',\n",
       " 'update_playlist',\n",
       " 'tell_joke',\n",
       " 'change_language',\n",
       " 'report_lost_card',\n",
       " 'uber',\n",
       " 'reminder_update',\n",
       " 'do_you_have_pets',\n",
       " 'timer',\n",
       " 'translate',\n",
       " 'credit_limit',\n",
       " 'cancel',\n",
       " 'change_volume',\n",
       " 'order_status',\n",
       " 'gas',\n",
       " 'book_hotel',\n",
       " 'taxes',\n",
       " 'mpg',\n",
       " 'current_location',\n",
       " 'directions',\n",
       " 'last_maintenance',\n",
       " 'who_do_you_work_for',\n",
       " 'change_ai_name',\n",
       " 'schedule_meeting',\n",
       " 'share_location',\n",
       " 'confirm_reservation',\n",
       " 'what_is_your_name',\n",
       " 'how_old_are_you',\n",
       " 'meaning_of_life',\n",
       " 'calories',\n",
       " 'whisper_mode',\n",
       " 'restaurant_reservation',\n",
       " 'pto_balance',\n",
       " 'interest_rate',\n",
       " 'smart_home',\n",
       " 'flight_status',\n",
       " 'reminder',\n",
       " 'repeat',\n",
       " 'travel_alert',\n",
       " 'alarm',\n",
       " 'w2',\n",
       " 'definition',\n",
       " 'pin_change',\n",
       " 'ingredients_list',\n",
       " 'cancel_reservation',\n",
       " 'insurance',\n",
       " 'apr',\n",
       " 'rewards_balance',\n",
       " 'time',\n",
       " 'insurance_change',\n",
       " 'international_visa',\n",
       " 'shopping_list',\n",
       " 'tire_change',\n",
       " 'restaurant_suggestion',\n",
       " 'transactions',\n",
       " 'rollover_401k',\n",
       " 'sync_device',\n",
       " 'distance',\n",
       " 'damaged_card',\n",
       " 'roll_dice',\n",
       " 'greeting',\n",
       " 'goodbye',\n",
       " 'what_can_i_ask_you',\n",
       " 'international_fees',\n",
       " 'maybe',\n",
       " 'spelling',\n",
       " 'expiration_date',\n",
       " 'date',\n",
       " 'report_fraud',\n",
       " 'flip_coin',\n",
       " 'where_are_you_from',\n",
       " 'travel_notification',\n",
       " 'vaccines',\n",
       " 'user_name',\n",
       " 'oos',\n",
       " 'income',\n",
       " 'min_payment',\n",
       " 'plug_type',\n",
       " 'restaurant_reviews',\n",
       " 'carry_on',\n",
       " 'credit_score',\n",
       " 'pto_request_status',\n",
       " 'credit_limit_change',\n",
       " 'new_card',\n",
       " 'what_song',\n",
       " 'car_rental',\n",
       " 'oil_change_how',\n",
       " 'pto_used',\n",
       " 'change_accent',\n",
       " 'balance',\n",
       " 'what_are_your_hobbies',\n",
       " 'meeting_schedule',\n",
       " 'reset_settings',\n",
       " 'pto_request',\n",
       " 'who_made_you',\n",
       " 'calculator',\n",
       " 'cook_time',\n",
       " 'travel_suggestion',\n",
       " 'account_blocked',\n",
       " 'timezone',\n",
       " 'ingredient_substitution',\n",
       " 'change_speed',\n",
       " 'redeem_rewards',\n",
       " 'nutrition_info',\n",
       " 'spending_history',\n",
       " 'next_song',\n",
       " 'tire_pressure',\n",
       " 'no',\n",
       " 'improve_credit_score',\n",
       " 'measurement_conversion',\n",
       " 'freeze_account',\n",
       " 'gas_type',\n",
       " 'lost_luggage',\n",
       " 'calendar',\n",
       " 'bill_balance',\n",
       " 'todo_list',\n",
       " 'todo_list_update',\n",
       " 'how_busy',\n",
       " 'yes',\n",
       " 'meal_suggestion',\n",
       " 'bill_due',\n",
       " 'next_holiday',\n",
       " 'fun_fact',\n",
       " 'shopping_list_update',\n",
       " 'thank_you',\n",
       " 'make_call',\n",
       " 'jump_start',\n",
       " 'transfer',\n",
       " 'accept_reservations',\n",
       " 'calendar_update',\n",
       " 'pay_bill',\n",
       " 'change_user_name',\n",
       " 'food_last',\n",
       " 'book_flight',\n",
       " 'weather',\n",
       " 'find_phone',\n",
       " 'oil_change_when',\n",
       " 'schedule_maintenance',\n",
       " 'direct_deposit',\n",
       " 'are_you_a_bot',\n",
       " 'traffic',\n",
       " 'exchange_rate',\n",
       " 'order',\n",
       " 'payday',\n",
       " 'replacement_card_duration',\n",
       " 'play_music']"
      ]
     },
     "execution_count": 20,
     "metadata": {},
     "output_type": "execute_result"
    }
   ],
   "source": [
    "# collect unique labels\n",
    "label_set = list(set(train_labels + val_labels + test_labels))\n",
    "label_set"
   ]
  },
  {
   "cell_type": "code",
   "execution_count": 21,
   "metadata": {},
   "outputs": [
    {
     "data": {
      "text/plain": [
       "151"
      ]
     },
     "execution_count": 21,
     "metadata": {},
     "output_type": "execute_result"
    }
   ],
   "source": [
    "len(label_set)"
   ]
  },
  {
   "cell_type": "markdown",
   "metadata": {},
   "source": [
    "#### Text Preprocessing"
   ]
  },
  {
   "cell_type": "code",
   "execution_count": 22,
   "metadata": {},
   "outputs": [],
   "source": [
    "# encode categories\n",
    "\n",
    "# initializer label encoder\n",
    "le = LabelEncoder()\n",
    "le.fit(label_set)\n",
    "\n",
    "# encode labels\n",
    "train_y = le.transform(train_labels)\n",
    "val_y = le.transform(val_labels)\n",
    "test_y = le.transform(test_labels)"
   ]
  },
  {
   "cell_type": "markdown",
   "metadata": {},
   "source": [
    "##### Text Feature Extraction"
   ]
  },
  {
   "cell_type": "code",
   "execution_count": 23,
   "metadata": {},
   "outputs": [],
   "source": [
    "from sklearn.feature_extraction.text import TfidfVectorizer"
   ]
  },
  {
   "cell_type": "code",
   "execution_count": 24,
   "metadata": {},
   "outputs": [],
   "source": [
    "tfidf_vectorizer = TfidfVectorizer(tokenizer = tokenizer.tokenize, analyzer = 'word', stop_words = 'english').fit(train_texts + val_texts + test_texts)"
   ]
  },
  {
   "cell_type": "code",
   "execution_count": 25,
   "metadata": {},
   "outputs": [],
   "source": [
    "train_X = tfidf_vectorizer.transform(train_texts)\n",
    "val_X = tfidf_vectorizer.transform(val_texts)\n",
    "test_X = tfidf_vectorizer.transform(test_texts)"
   ]
  },
  {
   "cell_type": "code",
   "execution_count": 26,
   "metadata": {},
   "outputs": [
    {
     "name": "stdout",
     "output_type": "stream",
     "text": [
      "(30100, 7022)\n"
     ]
    }
   ],
   "source": [
    "print(train_X.shape)"
   ]
  },
  {
   "cell_type": "markdown",
   "metadata": {},
   "source": [
    "#### SVM"
   ]
  },
  {
   "cell_type": "code",
   "execution_count": 27,
   "metadata": {},
   "outputs": [],
   "source": [
    "# initializer SVM classifier\n",
    "svm = SVC(C = 2, class_weight = 'balanced')"
   ]
  },
  {
   "cell_type": "code",
   "execution_count": 28,
   "metadata": {},
   "outputs": [
    {
     "data": {
      "text/plain": [
       "SVC(C=2, class_weight='balanced')"
      ]
     },
     "execution_count": 28,
     "metadata": {},
     "output_type": "execute_result"
    }
   ],
   "source": [
    "# training SVM\n",
    "svm.fit(train_X, train_y)"
   ]
  },
  {
   "cell_type": "code",
   "execution_count": 29,
   "metadata": {},
   "outputs": [
    {
     "data": {
      "text/plain": [
       "0.9821262458471761"
      ]
     },
     "execution_count": 29,
     "metadata": {},
     "output_type": "execute_result"
    }
   ],
   "source": [
    "svm.score(train_X, train_y)"
   ]
  },
  {
   "cell_type": "code",
   "execution_count": 30,
   "metadata": {},
   "outputs": [
    {
     "data": {
      "text/plain": [
       "0.8141935483870968"
      ]
     },
     "execution_count": 30,
     "metadata": {},
     "output_type": "execute_result"
    }
   ],
   "source": [
    "svm.score(val_X, val_y)"
   ]
  },
  {
   "cell_type": "code",
   "execution_count": 31,
   "metadata": {},
   "outputs": [
    {
     "data": {
      "text/plain": [
       "0.7987272727272727"
      ]
     },
     "execution_count": 31,
     "metadata": {},
     "output_type": "execute_result"
    }
   ],
   "source": [
    "svm.score(test_X, test_y)"
   ]
  },
  {
   "cell_type": "markdown",
   "metadata": {},
   "source": [
    "#### AdaBoost Classifier"
   ]
  },
  {
   "cell_type": "code",
   "execution_count": 186,
   "metadata": {},
   "outputs": [],
   "source": [
    "from sklearn.ensemble import GradientBoostingClassifier"
   ]
  },
  {
   "cell_type": "code",
   "execution_count": 189,
   "metadata": {},
   "outputs": [],
   "source": [
    "# initializer Gradient Boosting Classifier\n",
    "gb_classifier = GradientBoostingClassifier(learning_rate = 0.01, n_iter_no_change = 10, verbose = 1)"
   ]
  },
  {
   "cell_type": "code",
   "execution_count": 190,
   "metadata": {},
   "outputs": [
    {
     "name": "stdout",
     "output_type": "stream",
     "text": [
      "      Iter       Train Loss   Remaining Time \n",
      "         1           3.9994           12.71m\n",
      "         2           3.7270           13.15m\n",
      "         3           3.5334           13.10m\n",
      "         4           3.3805           12.90m\n",
      "         5           3.2546           12.78m\n",
      "         6           3.1468           12.69m\n",
      "         7           3.0531           12.53m\n",
      "         8           2.9653           12.36m\n",
      "         9           2.8891           12.20m\n",
      "        10           2.8169           12.04m\n",
      "        20           2.3170           10.60m\n",
      "        30           2.0055            9.24m\n",
      "        40           1.7720            7.91m\n",
      "        50           1.5912            6.60m\n",
      "        60           1.4391            5.27m\n",
      "        70           1.3104            3.95m\n",
      "        80           1.1980            2.63m\n",
      "        90           1.1021            1.31m\n",
      "       100           1.0179            0.00s\n"
     ]
    },
    {
     "data": {
      "text/plain": [
       "GradientBoostingClassifier(learning_rate=0.01, n_iter_no_change=10, verbose=1)"
      ]
     },
     "execution_count": 190,
     "metadata": {},
     "output_type": "execute_result"
    }
   ],
   "source": [
    "# train gb_classifier\n",
    "gb_classifier.fit(train_X, train_y)"
   ]
  },
  {
   "cell_type": "code",
   "execution_count": 191,
   "metadata": {},
   "outputs": [
    {
     "data": {
      "text/plain": [
       "0.7316129032258064"
      ]
     },
     "execution_count": 191,
     "metadata": {},
     "output_type": "execute_result"
    }
   ],
   "source": [
    "gb_classifier.score(val_X, val_y)"
   ]
  },
  {
   "cell_type": "code",
   "execution_count": 192,
   "metadata": {},
   "outputs": [
    {
     "data": {
      "text/plain": [
       "0.6163636363636363"
      ]
     },
     "execution_count": 192,
     "metadata": {},
     "output_type": "execute_result"
    }
   ],
   "source": [
    "gb_classifier.score(test_X, test_y)"
   ]
  },
  {
   "cell_type": "markdown",
   "metadata": {},
   "source": [
    "### Save model and intent list"
   ]
  },
  {
   "cell_type": "code",
   "execution_count": 32,
   "metadata": {},
   "outputs": [],
   "source": [
    "# save model\n",
    "filename = '../intent_classifier.sav'\n",
    "pickle.dump(svm, open(filename, 'wb'))"
   ]
  },
  {
   "cell_type": "code",
   "execution_count": 42,
   "metadata": {},
   "outputs": [],
   "source": [
    "# append new_line character\n",
    "labels = [label+ '\\n' for label in label_set]\n",
    "labels[-1] = labels[-1].strip('\\n')\n",
    "\n",
    "# save intent list\n",
    "with open('../intent_list.txt', 'w') as file:\n",
    "    file.writelines(labels)\n",
    "    \n",
    "# save vocabs\n",
    "with open('../vocabs.pickle', 'wb') as file:\n",
    "    vocabs = tfidf_vectorizer.vocabulary_\n",
    "    pickle.dump(vocabs, file)\n",
    "    \n",
    "# save vectorizer\n",
    "with open('../tfidf_vectorizer.pickle', 'wb') as file:\n",
    "    pickle.dump(tfidf_vectorizer, file)"
   ]
  },
  {
   "cell_type": "code",
   "execution_count": null,
   "metadata": {},
   "outputs": [],
   "source": []
  }
 ],
 "metadata": {
  "kernelspec": {
   "display_name": "Python 3",
   "language": "python",
   "name": "python3"
  },
  "language_info": {
   "codemirror_mode": {
    "name": "ipython",
    "version": 3
   },
   "file_extension": ".py",
   "mimetype": "text/x-python",
   "name": "python",
   "nbconvert_exporter": "python",
   "pygments_lexer": "ipython3",
   "version": "3.8.6"
  }
 },
 "nbformat": 4,
 "nbformat_minor": 4
}
