{
 "cells": [
  {
   "cell_type": "markdown",
   "metadata": {},
   "source": [
    "# Intent Classification "
   ]
  },
  {
   "cell_type": "markdown",
   "metadata": {},
   "source": [
    "## Clinc 150 Dataset from UCI\n",
    "[An evaluation datset for intent classification and out-of-scope prediction.](https://archive.ics.uci.edu/ml/datasets/CLINC150)\n",
    "\n",
    "**Citation**\n",
    "* Stefan Larson, Anish Mahendran, Joseph J. Peper, Christopher Clarke, Andrew Lee, Parker Hill, Jonathan K. Kummerfeld, Kevin Leach, Michael A. Laurenzano, Lingjia Tang, and Jason Mars. 2019. An evaluation dataset for intent classification and out-of-scope prediction. In Proceedings of EMNLP-IJCNLP"
   ]
  },
  {
   "cell_type": "markdown",
   "metadata": {},
   "source": [
    "### import dependencies"
   ]
  },
  {
   "cell_type": "code",
   "execution_count": 1,
   "metadata": {},
   "outputs": [],
   "source": [
    "import os\n",
    "import json\n",
    "import pickle\n",
    "import numpy as np\n",
    "from sklearn.svm import SVC\n",
    "from sklearn.preprocessing import LabelEncoder"
   ]
  },
  {
   "cell_type": "code",
   "execution_count": 36,
   "metadata": {},
   "outputs": [],
   "source": [
    "import nltk\n",
    "from  nltk.stem.porter import PorterStemmer\n",
    "from nltk.tokenize import word_tokenize, RegexpTokenizer\n",
    "from nltk.corpus import stopwords"
   ]
  },
  {
   "cell_type": "code",
   "execution_count": 37,
   "metadata": {},
   "outputs": [],
   "source": [
    "stop_words = stopwords.words('english')\n",
    "tokenizer = RegexpTokenizer(r'\\w+')\n",
    "stemmer = PorterStemmer()"
   ]
  },
  {
   "cell_type": "markdown",
   "metadata": {},
   "source": [
    "### Load data"
   ]
  },
  {
   "cell_type": "code",
   "execution_count": 4,
   "metadata": {},
   "outputs": [],
   "source": [
    "path = '../data/clinc150_uci/data_full.json'"
   ]
  },
  {
   "cell_type": "code",
   "execution_count": 5,
   "metadata": {},
   "outputs": [],
   "source": [
    "with open(path) as file:\n",
    "    data = json.load(file)"
   ]
  },
  {
   "cell_type": "code",
   "execution_count": 6,
   "metadata": {},
   "outputs": [
    {
     "data": {
      "text/plain": [
       "dict_keys(['oos_val', 'val', 'train', 'oos_test', 'test', 'oos_train'])"
      ]
     },
     "execution_count": 6,
     "metadata": {},
     "output_type": "execute_result"
    }
   ],
   "source": [
    "data.keys()"
   ]
  },
  {
   "cell_type": "markdown",
   "metadata": {},
   "source": [
    "#### Collect texts and labels"
   ]
  },
  {
   "cell_type": "code",
   "execution_count": 7,
   "metadata": {},
   "outputs": [],
   "source": [
    "train_texts = []\n",
    "train_labels = []\n",
    "val_texts = []\n",
    "val_labels = []\n",
    "test_texts = []\n",
    "test_labels = []"
   ]
  },
  {
   "cell_type": "code",
   "execution_count": 8,
   "metadata": {},
   "outputs": [],
   "source": [
    "# collect texts and labels in train and oos_train set\n",
    "for item in data['train']:\n",
    "    train_texts.append(item[0])\n",
    "    train_labels.append(item[-1])\n",
    "# collect texts and labels in oos-train set\n",
    "for item in data['oos_train']:\n",
    "    train_texts.append(item[0])\n",
    "    train_labels.append(item[-1])"
   ]
  },
  {
   "cell_type": "code",
   "execution_count": 9,
   "metadata": {},
   "outputs": [],
   "source": [
    "# collect texts and labels in val and oos_val set\n",
    "for item in data['val']:\n",
    "    val_texts.append(item[0])\n",
    "    val_labels.append(item[-1])\n",
    "# collect texts and labels in oos-train set\n",
    "for item in data['oos_val']:\n",
    "    val_texts.append(item[0])\n",
    "    val_labels.append(item[-1])"
   ]
  },
  {
   "cell_type": "code",
   "execution_count": 10,
   "metadata": {},
   "outputs": [],
   "source": [
    "# collect texts and labels in test and oos_test set\n",
    "for item in data['test']:\n",
    "    test_texts.append(item[0])\n",
    "    test_labels.append(item[-1])\n",
    "# collect texts and labels in oos-train set\n",
    "for item in data['oos_test']:\n",
    "    test_texts.append(item[0])\n",
    "    test_labels.append(item[-1])"
   ]
  },
  {
   "cell_type": "code",
   "execution_count": 11,
   "metadata": {},
   "outputs": [
    {
     "data": {
      "text/plain": [
       "['pto_request',\n",
       " 'application_status',\n",
       " 'gas',\n",
       " 'direct_deposit',\n",
       " 'insurance',\n",
       " 'reminder',\n",
       " 'make_call',\n",
       " 'bill_due',\n",
       " 'interest_rate',\n",
       " 'sync_device',\n",
       " 'report_fraud',\n",
       " 'no',\n",
       " 'spelling',\n",
       " 'translate',\n",
       " 'thank_you',\n",
       " 'gas_type',\n",
       " 'calculator',\n",
       " 'time',\n",
       " 'todo_list',\n",
       " 'travel_notification',\n",
       " 'insurance_change',\n",
       " 'routing',\n",
       " 'jump_start',\n",
       " 'traffic',\n",
       " 'credit_score',\n",
       " 'share_location',\n",
       " 'balance',\n",
       " 'measurement_conversion',\n",
       " 'travel_alert',\n",
       " 'goodbye',\n",
       " 'book_flight',\n",
       " 'expiration_date',\n",
       " 'pin_change',\n",
       " 'income',\n",
       " 'oil_change_when',\n",
       " 'order_status',\n",
       " 'change_volume',\n",
       " 'taxes',\n",
       " 'find_phone',\n",
       " 'account_blocked',\n",
       " 'tell_joke',\n",
       " 'tire_pressure',\n",
       " 'repeat',\n",
       " 'report_lost_card',\n",
       " 'timer',\n",
       " 'rollover_401k',\n",
       " 'credit_limit',\n",
       " 'freeze_account',\n",
       " 'definition',\n",
       " 'schedule_meeting',\n",
       " 'vaccines',\n",
       " 'mpg',\n",
       " 'pay_bill',\n",
       " 'next_holiday',\n",
       " 'fun_fact',\n",
       " 'distance',\n",
       " 'order_checks',\n",
       " 'shopping_list_update',\n",
       " 'restaurant_reviews',\n",
       " 'international_fees',\n",
       " 'pto_balance',\n",
       " 'rewards_balance',\n",
       " 'who_do_you_work_for',\n",
       " 'book_hotel',\n",
       " 'tire_change',\n",
       " 'todo_list_update',\n",
       " 'who_made_you',\n",
       " 'roll_dice',\n",
       " 'new_card',\n",
       " 'meal_suggestion',\n",
       " 'cancel_reservation',\n",
       " 'flight_status',\n",
       " 'oos',\n",
       " 'change_language',\n",
       " 'shopping_list',\n",
       " 'international_visa',\n",
       " 'damaged_card',\n",
       " 'how_old_are_you',\n",
       " 'what_song',\n",
       " 'weather',\n",
       " 'min_payment',\n",
       " 'whisper_mode',\n",
       " 'lost_luggage',\n",
       " 'what_are_your_hobbies',\n",
       " 'reminder_update',\n",
       " 'are_you_a_bot',\n",
       " 'current_location',\n",
       " 'maybe',\n",
       " 'carry_on',\n",
       " 'smart_home',\n",
       " 'alarm',\n",
       " 'reset_settings',\n",
       " 'calendar',\n",
       " 'car_rental',\n",
       " 'spending_history',\n",
       " 'transfer',\n",
       " 'meaning_of_life',\n",
       " 'restaurant_reservation',\n",
       " 'accept_reservations',\n",
       " 'schedule_maintenance',\n",
       " 'apr',\n",
       " 'how_busy',\n",
       " 'what_can_i_ask_you',\n",
       " 'payday',\n",
       " 'recipe',\n",
       " 'directions',\n",
       " 'calendar_update',\n",
       " 'card_declined',\n",
       " 'exchange_rate',\n",
       " 'change_ai_name',\n",
       " 'meeting_schedule',\n",
       " 'next_song',\n",
       " 'restaurant_suggestion',\n",
       " 'yes',\n",
       " 'greeting',\n",
       " 'cancel',\n",
       " 'oil_change_how',\n",
       " 'calories',\n",
       " 'improve_credit_score',\n",
       " 'pto_used',\n",
       " 'confirm_reservation',\n",
       " 'change_speed',\n",
       " 'bill_balance',\n",
       " 'play_music',\n",
       " 'plug_type',\n",
       " 'change_user_name',\n",
       " 'timezone',\n",
       " 'pto_request_status',\n",
       " 'w2',\n",
       " 'change_accent',\n",
       " 'travel_suggestion',\n",
       " 'ingredients_list',\n",
       " 'update_playlist',\n",
       " 'do_you_have_pets',\n",
       " 'replacement_card_duration',\n",
       " 'food_last',\n",
       " 'cook_time',\n",
       " 'ingredient_substitution',\n",
       " 'last_maintenance',\n",
       " 'what_is_your_name',\n",
       " 'text',\n",
       " 'order',\n",
       " 'date',\n",
       " 'where_are_you_from',\n",
       " 'user_name',\n",
       " 'transactions',\n",
       " 'redeem_rewards',\n",
       " 'nutrition_info',\n",
       " 'credit_limit_change',\n",
       " 'flip_coin',\n",
       " 'uber']"
      ]
     },
     "execution_count": 11,
     "metadata": {},
     "output_type": "execute_result"
    }
   ],
   "source": [
    "# collect unique labels\n",
    "label_set = list(set(train_labels + val_labels + test_labels))\n",
    "label_set"
   ]
  },
  {
   "cell_type": "code",
   "execution_count": 12,
   "metadata": {},
   "outputs": [
    {
     "data": {
      "text/plain": [
       "151"
      ]
     },
     "execution_count": 12,
     "metadata": {},
     "output_type": "execute_result"
    }
   ],
   "source": [
    "len(label_set)"
   ]
  },
  {
   "cell_type": "markdown",
   "metadata": {},
   "source": [
    "### Label Preprocessing"
   ]
  },
  {
   "cell_type": "code",
   "execution_count": 13,
   "metadata": {},
   "outputs": [],
   "source": [
    "# encode categories\n",
    "\n",
    "# initializer label encoder\n",
    "le = LabelEncoder()\n",
    "le.fit(label_set)\n",
    "\n",
    "# encode labels\n",
    "train_y = le.transform(train_labels)\n",
    "val_y = le.transform(val_labels)\n",
    "test_y = le.transform(test_labels)"
   ]
  },
  {
   "cell_type": "markdown",
   "metadata": {},
   "source": [
    "### Approach 1: TF-IDF Feature Extraction"
   ]
  },
  {
   "cell_type": "markdown",
   "metadata": {},
   "source": [
    "#### Term-Frequency & Inverse-Document-Frequency"
   ]
  },
  {
   "cell_type": "code",
   "execution_count": 57,
   "metadata": {},
   "outputs": [],
   "source": [
    "from sklearn.feature_extraction.text import TfidfVectorizer"
   ]
  },
  {
   "cell_type": "code",
   "execution_count": 58,
   "metadata": {},
   "outputs": [
    {
     "name": "stderr",
     "output_type": "stream",
     "text": [
      "/usr/local/lib/python3.8/site-packages/sklearn/feature_extraction/text.py:484: UserWarning: The parameter 'token_pattern' will not be used since 'tokenizer' is not None'\n",
      "  warnings.warn(\"The parameter 'token_pattern' will not be used\"\n"
     ]
    }
   ],
   "source": [
    "tfidf_vectorizer = TfidfVectorizer(tokenizer = tokenizer.tokenize, analyzer = 'word', stop_words = 'english').fit(train_texts + val_texts + test_texts)"
   ]
  },
  {
   "cell_type": "code",
   "execution_count": 59,
   "metadata": {},
   "outputs": [
    {
     "data": {
      "text/plain": [
       "7022"
      ]
     },
     "execution_count": 59,
     "metadata": {},
     "output_type": "execute_result"
    }
   ],
   "source": [
    "len(tfidf_vectorizer.vocabulary_)"
   ]
  },
  {
   "cell_type": "code",
   "execution_count": 60,
   "metadata": {},
   "outputs": [],
   "source": [
    "train_X = tfidf_vectorizer.transform(train_texts)\n",
    "val_X = tfidf_vectorizer.transform(val_texts)\n",
    "test_X = tfidf_vectorizer.transform(test_texts)"
   ]
  },
  {
   "cell_type": "code",
   "execution_count": 61,
   "metadata": {},
   "outputs": [
    {
     "name": "stdout",
     "output_type": "stream",
     "text": [
      "(15100, 7022)\n"
     ]
    }
   ],
   "source": [
    "print(train_X.shape)"
   ]
  },
  {
   "cell_type": "markdown",
   "metadata": {},
   "source": [
    "#### Training models"
   ]
  },
  {
   "cell_type": "markdown",
   "metadata": {},
   "source": [
    "##### SVM"
   ]
  },
  {
   "cell_type": "code",
   "execution_count": 47,
   "metadata": {},
   "outputs": [],
   "source": [
    "# initializer SVM classifier\n",
    "svm = SVC(C = 2, class_weight = 'balanced', kernel = 'rbf', random_state = 97, gamma = 'scale')"
   ]
  },
  {
   "cell_type": "code",
   "execution_count": 48,
   "metadata": {},
   "outputs": [
    {
     "data": {
      "text/plain": [
       "SVC(C=2, class_weight='balanced', random_state=97)"
      ]
     },
     "execution_count": 48,
     "metadata": {},
     "output_type": "execute_result"
    }
   ],
   "source": [
    "# training SVM\n",
    "svm.fit(train_X, train_y)"
   ]
  },
  {
   "cell_type": "code",
   "execution_count": 49,
   "metadata": {},
   "outputs": [
    {
     "data": {
      "text/plain": [
       "0.9794701986754967"
      ]
     },
     "execution_count": 49,
     "metadata": {},
     "output_type": "execute_result"
    }
   ],
   "source": [
    "svm.score(train_X, train_y)"
   ]
  },
  {
   "cell_type": "code",
   "execution_count": 50,
   "metadata": {},
   "outputs": [
    {
     "data": {
      "text/plain": [
       "0.817741935483871"
      ]
     },
     "execution_count": 50,
     "metadata": {},
     "output_type": "execute_result"
    }
   ],
   "source": [
    "svm.score(val_X, val_y)"
   ]
  },
  {
   "cell_type": "code",
   "execution_count": 51,
   "metadata": {},
   "outputs": [
    {
     "data": {
      "text/plain": [
       "0.8016363636363636"
      ]
     },
     "execution_count": 51,
     "metadata": {},
     "output_type": "execute_result"
    }
   ],
   "source": [
    "svm.score(test_X, test_y)"
   ]
  },
  {
   "cell_type": "markdown",
   "metadata": {},
   "source": [
    "##### MLP"
   ]
  },
  {
   "cell_type": "code",
   "execution_count": 52,
   "metadata": {},
   "outputs": [],
   "source": [
    "from sklearn.neural_network import MLPClassifier"
   ]
  },
  {
   "cell_type": "code",
   "execution_count": 62,
   "metadata": {},
   "outputs": [],
   "source": [
    "classifier = MLPClassifier(hidden_layer_sizes = (256, 151), activation = 'relu', solver = 'sgd',\n",
    "                           batch_size = 32, shuffle = True, random_state = 97, learning_rate = 'adaptive',\n",
    "                           verbose = True, early_stopping = True)"
   ]
  },
  {
   "cell_type": "code",
   "execution_count": 63,
   "metadata": {},
   "outputs": [
    {
     "name": "stdout",
     "output_type": "stream",
     "text": [
      "Iteration 1, loss = 5.02309069\n",
      "Validation score: 0.003311\n",
      "Iteration 2, loss = 5.02050159\n",
      "Validation score: 0.003311\n",
      "Iteration 3, loss = 5.01809208\n",
      "Validation score: 0.003311\n",
      "Iteration 4, loss = 5.01568883\n",
      "Validation score: 0.003311\n",
      "Iteration 5, loss = 5.01323725\n",
      "Validation score: 0.003311\n",
      "Iteration 6, loss = 5.01067835\n",
      "Validation score: 0.003311\n",
      "Iteration 7, loss = 5.00798457\n",
      "Validation score: 0.003974\n",
      "Iteration 8, loss = 5.00516358\n",
      "Validation score: 0.005960\n",
      "Iteration 9, loss = 5.00214277\n",
      "Validation score: 0.006623\n",
      "Iteration 10, loss = 4.99894906\n",
      "Validation score: 0.011258\n",
      "Iteration 11, loss = 4.99557059\n",
      "Validation score: 0.012583\n",
      "Iteration 12, loss = 4.99199354\n",
      "Validation score: 0.017219\n",
      "Iteration 13, loss = 4.98822679\n",
      "Validation score: 0.020530\n",
      "Iteration 14, loss = 4.98425790\n",
      "Validation score: 0.025828\n",
      "Iteration 15, loss = 4.98006914\n",
      "Validation score: 0.033113\n",
      "Iteration 16, loss = 4.97567042\n",
      "Validation score: 0.041060\n",
      "Iteration 17, loss = 4.97104261\n",
      "Validation score: 0.044371\n",
      "Iteration 18, loss = 4.96619904\n",
      "Validation score: 0.057616\n",
      "Iteration 19, loss = 4.96109354\n",
      "Validation score: 0.072185\n",
      "Iteration 20, loss = 4.95569947\n",
      "Validation score: 0.082119\n",
      "Iteration 21, loss = 4.95000570\n",
      "Validation score: 0.090728\n",
      "Iteration 22, loss = 4.94401217\n",
      "Validation score: 0.111921\n",
      "Iteration 23, loss = 4.93766960\n",
      "Validation score: 0.125166\n",
      "Iteration 24, loss = 4.93093785\n",
      "Validation score: 0.143709\n",
      "Iteration 25, loss = 4.92378087\n",
      "Validation score: 0.170861\n",
      "Iteration 26, loss = 4.91617891\n",
      "Validation score: 0.192053\n",
      "Iteration 27, loss = 4.90810796\n",
      "Validation score: 0.209272\n",
      "Iteration 28, loss = 4.89945462\n",
      "Validation score: 0.221192\n",
      "Iteration 29, loss = 4.89022329\n",
      "Validation score: 0.237748\n",
      "Iteration 30, loss = 4.88028171\n",
      "Validation score: 0.258278\n",
      "Iteration 31, loss = 4.86951101\n",
      "Validation score: 0.274172\n",
      "Iteration 32, loss = 4.85778090\n",
      "Validation score: 0.275497\n",
      "Iteration 33, loss = 4.84507747\n",
      "Validation score: 0.290728\n",
      "Iteration 34, loss = 4.83124240\n",
      "Validation score: 0.302649\n",
      "Iteration 35, loss = 4.81608512\n",
      "Validation score: 0.329139\n",
      "Iteration 36, loss = 4.79947255\n",
      "Validation score: 0.339735\n",
      "Iteration 37, loss = 4.78105373\n",
      "Validation score: 0.346358\n",
      "Iteration 38, loss = 4.76072578\n",
      "Validation score: 0.361589\n",
      "Iteration 39, loss = 4.73814009\n",
      "Validation score: 0.374172\n",
      "Iteration 40, loss = 4.71309290\n",
      "Validation score: 0.382781\n",
      "Iteration 41, loss = 4.68506709\n",
      "Validation score: 0.411258\n",
      "Iteration 42, loss = 4.65368034\n",
      "Validation score: 0.427152\n",
      "Iteration 43, loss = 4.61854306\n",
      "Validation score: 0.434437\n",
      "Iteration 44, loss = 4.57936776\n",
      "Validation score: 0.452318\n",
      "Iteration 45, loss = 4.53576380\n",
      "Validation score: 0.464901\n",
      "Iteration 46, loss = 4.48772217\n",
      "Validation score: 0.476159\n",
      "Iteration 47, loss = 4.43540045\n",
      "Validation score: 0.476821\n",
      "Iteration 48, loss = 4.37896530\n",
      "Validation score: 0.498013\n",
      "Iteration 49, loss = 4.31850799\n",
      "Validation score: 0.516556\n",
      "Iteration 50, loss = 4.25427127\n",
      "Validation score: 0.517219\n",
      "Iteration 51, loss = 4.18621299\n",
      "Validation score: 0.549007\n",
      "Iteration 52, loss = 4.11446325\n",
      "Validation score: 0.556954\n",
      "Iteration 53, loss = 4.03843311\n",
      "Validation score: 0.560927\n",
      "Iteration 54, loss = 3.95878748\n",
      "Validation score: 0.581457\n",
      "Iteration 55, loss = 3.87517202\n",
      "Validation score: 0.584106\n",
      "Iteration 56, loss = 3.78747754\n",
      "Validation score: 0.586755\n",
      "Iteration 57, loss = 3.69605374\n",
      "Validation score: 0.590728\n",
      "Iteration 58, loss = 3.60209973\n",
      "Validation score: 0.601987\n",
      "Iteration 59, loss = 3.50512084\n",
      "Validation score: 0.605298\n",
      "Iteration 60, loss = 3.40587568\n",
      "Validation score: 0.618543\n",
      "Iteration 61, loss = 3.30485616\n",
      "Validation score: 0.628477\n",
      "Iteration 62, loss = 3.20411281\n",
      "Validation score: 0.621192\n",
      "Iteration 63, loss = 3.10321834\n",
      "Validation score: 0.631126\n",
      "Iteration 64, loss = 3.00302565\n",
      "Validation score: 0.639073\n",
      "Iteration 65, loss = 2.90363455\n",
      "Validation score: 0.643046\n",
      "Iteration 66, loss = 2.80607780\n",
      "Validation score: 0.656954\n",
      "Iteration 67, loss = 2.71112575\n",
      "Validation score: 0.666887\n",
      "Iteration 68, loss = 2.61795586\n",
      "Validation score: 0.660265\n",
      "Iteration 69, loss = 2.52773435\n",
      "Validation score: 0.665563\n",
      "Iteration 70, loss = 2.43957282\n",
      "Validation score: 0.676821\n",
      "Iteration 71, loss = 2.35390470\n",
      "Validation score: 0.685430\n",
      "Iteration 72, loss = 2.27170884\n",
      "Validation score: 0.689404\n",
      "Iteration 73, loss = 2.19198378\n",
      "Validation score: 0.690728\n",
      "Iteration 74, loss = 2.11503568\n",
      "Validation score: 0.698013\n",
      "Iteration 75, loss = 2.03962357\n",
      "Validation score: 0.699338\n",
      "Iteration 76, loss = 1.96808285\n",
      "Validation score: 0.713245\n",
      "Iteration 77, loss = 1.89902018\n",
      "Validation score: 0.718543\n",
      "Iteration 78, loss = 1.83320277\n",
      "Validation score: 0.728477\n",
      "Iteration 79, loss = 1.76961539\n",
      "Validation score: 0.737086\n",
      "Iteration 80, loss = 1.70780981\n",
      "Validation score: 0.741060\n",
      "Iteration 81, loss = 1.64956196\n",
      "Validation score: 0.741060\n",
      "Iteration 82, loss = 1.59332662\n",
      "Validation score: 0.749007\n",
      "Iteration 83, loss = 1.53926083\n",
      "Validation score: 0.749669\n",
      "Iteration 84, loss = 1.48887046\n",
      "Validation score: 0.752980\n",
      "Iteration 85, loss = 1.43997976\n",
      "Validation score: 0.756954\n",
      "Iteration 86, loss = 1.39355772\n",
      "Validation score: 0.763576\n",
      "Iteration 87, loss = 1.34936007\n",
      "Validation score: 0.766887\n",
      "Iteration 88, loss = 1.30732136\n",
      "Validation score: 0.770861\n",
      "Iteration 89, loss = 1.26728187\n",
      "Validation score: 0.773510\n",
      "Iteration 90, loss = 1.22934250\n",
      "Validation score: 0.773510\n",
      "Iteration 91, loss = 1.19211822\n",
      "Validation score: 0.772848\n",
      "Iteration 92, loss = 1.15786815\n",
      "Validation score: 0.772185\n",
      "Iteration 93, loss = 1.12467397\n",
      "Validation score: 0.788079\n",
      "Iteration 94, loss = 1.09312645\n",
      "Validation score: 0.781457\n",
      "Iteration 95, loss = 1.06310937\n",
      "Validation score: 0.781457\n",
      "Iteration 96, loss = 1.03375265\n",
      "Validation score: 0.789404\n",
      "Iteration 97, loss = 1.00587508\n",
      "Validation score: 0.789404\n",
      "Iteration 98, loss = 0.97978096\n",
      "Validation score: 0.783444\n",
      "Iteration 99, loss = 0.95421778\n",
      "Validation score: 0.801325\n",
      "Iteration 100, loss = 0.93005817\n",
      "Validation score: 0.799338\n",
      "Iteration 101, loss = 0.90629707\n",
      "Validation score: 0.796026\n",
      "Iteration 102, loss = 0.88481400\n",
      "Validation score: 0.803311\n",
      "Iteration 103, loss = 0.86309678\n",
      "Validation score: 0.802649\n",
      "Iteration 104, loss = 0.84298742\n",
      "Validation score: 0.803311\n",
      "Iteration 105, loss = 0.82309274\n",
      "Validation score: 0.800000\n",
      "Iteration 106, loss = 0.80560372\n",
      "Validation score: 0.801987\n",
      "Iteration 107, loss = 0.78705648\n",
      "Validation score: 0.807285\n",
      "Iteration 108, loss = 0.76931727\n",
      "Validation score: 0.808609\n",
      "Iteration 109, loss = 0.75205077\n",
      "Validation score: 0.807285\n",
      "Iteration 110, loss = 0.73671789\n",
      "Validation score: 0.815894\n",
      "Iteration 111, loss = 0.72130461\n",
      "Validation score: 0.810596\n",
      "Iteration 112, loss = 0.70689061\n",
      "Validation score: 0.817219\n",
      "Iteration 113, loss = 0.69246431\n",
      "Validation score: 0.811921\n",
      "Iteration 114, loss = 0.67812778\n",
      "Validation score: 0.816556\n",
      "Iteration 115, loss = 0.66534685\n",
      "Validation score: 0.817219\n",
      "Iteration 116, loss = 0.65212710\n",
      "Validation score: 0.816556\n",
      "Iteration 117, loss = 0.64032651\n",
      "Validation score: 0.825828\n",
      "Iteration 118, loss = 0.62758323\n",
      "Validation score: 0.819205\n",
      "Iteration 119, loss = 0.61618251\n",
      "Validation score: 0.822517\n",
      "Iteration 120, loss = 0.60480334\n",
      "Validation score: 0.823841\n",
      "Iteration 121, loss = 0.59440068\n",
      "Validation score: 0.819868\n",
      "Iteration 122, loss = 0.58378853\n",
      "Validation score: 0.822517\n",
      "Iteration 123, loss = 0.57331104\n",
      "Validation score: 0.827815\n",
      "Iteration 124, loss = 0.56339553\n",
      "Validation score: 0.823841\n",
      "Iteration 125, loss = 0.55327098\n",
      "Validation score: 0.829139\n",
      "Iteration 126, loss = 0.54438018\n",
      "Validation score: 0.825828\n",
      "Iteration 127, loss = 0.53530784\n",
      "Validation score: 0.830464\n",
      "Iteration 128, loss = 0.52617406\n",
      "Validation score: 0.827815\n",
      "Iteration 129, loss = 0.51758025\n",
      "Validation score: 0.829139\n",
      "Iteration 130, loss = 0.50987291\n",
      "Validation score: 0.837086\n",
      "Iteration 131, loss = 0.50162652\n",
      "Validation score: 0.837086\n",
      "Iteration 132, loss = 0.49303358\n",
      "Validation score: 0.835099\n",
      "Iteration 133, loss = 0.48509326\n",
      "Validation score: 0.836424\n",
      "Iteration 134, loss = 0.47816039\n",
      "Validation score: 0.833775\n",
      "Iteration 135, loss = 0.47091285\n",
      "Validation score: 0.835099\n",
      "Iteration 136, loss = 0.46383892\n",
      "Validation score: 0.834437\n",
      "Iteration 137, loss = 0.45708615\n",
      "Validation score: 0.837748\n",
      "Iteration 138, loss = 0.45017675\n",
      "Validation score: 0.837086\n",
      "Iteration 139, loss = 0.44288458\n",
      "Validation score: 0.840397\n"
     ]
    },
    {
     "name": "stdout",
     "output_type": "stream",
     "text": [
      "Iteration 140, loss = 0.43686811\n",
      "Validation score: 0.840397\n",
      "Iteration 141, loss = 0.43108265\n",
      "Validation score: 0.834437\n",
      "Iteration 142, loss = 0.42424408\n",
      "Validation score: 0.840397\n",
      "Iteration 143, loss = 0.41928789\n",
      "Validation score: 0.847020\n",
      "Iteration 144, loss = 0.41282678\n",
      "Validation score: 0.845033\n",
      "Iteration 145, loss = 0.40711436\n",
      "Validation score: 0.839073\n",
      "Iteration 146, loss = 0.40136788\n",
      "Validation score: 0.845695\n",
      "Iteration 147, loss = 0.39582094\n",
      "Validation score: 0.841722\n",
      "Iteration 148, loss = 0.39059670\n",
      "Validation score: 0.845033\n",
      "Iteration 149, loss = 0.38542384\n",
      "Validation score: 0.844371\n",
      "Iteration 150, loss = 0.38016470\n",
      "Validation score: 0.847682\n",
      "Iteration 151, loss = 0.37549487\n",
      "Validation score: 0.849669\n",
      "Iteration 152, loss = 0.37020021\n",
      "Validation score: 0.846358\n",
      "Iteration 153, loss = 0.36613267\n",
      "Validation score: 0.851656\n",
      "Iteration 154, loss = 0.36021942\n",
      "Validation score: 0.847020\n",
      "Iteration 155, loss = 0.35665901\n",
      "Validation score: 0.844371\n",
      "Iteration 156, loss = 0.35203401\n",
      "Validation score: 0.847682\n",
      "Iteration 157, loss = 0.34729906\n",
      "Validation score: 0.849669\n",
      "Iteration 158, loss = 0.34313102\n",
      "Validation score: 0.850993\n",
      "Iteration 159, loss = 0.33863303\n",
      "Validation score: 0.849669\n",
      "Iteration 160, loss = 0.33446860\n",
      "Validation score: 0.854967\n",
      "Iteration 161, loss = 0.32979161\n",
      "Validation score: 0.850993\n",
      "Iteration 162, loss = 0.32638707\n",
      "Validation score: 0.847020\n",
      "Iteration 163, loss = 0.32262779\n",
      "Validation score: 0.854967\n",
      "Iteration 164, loss = 0.31794645\n",
      "Validation score: 0.850331\n",
      "Iteration 165, loss = 0.31492297\n",
      "Validation score: 0.852318\n",
      "Iteration 166, loss = 0.31074183\n",
      "Validation score: 0.852980\n",
      "Iteration 167, loss = 0.30725878\n",
      "Validation score: 0.854305\n",
      "Iteration 168, loss = 0.30376683\n",
      "Validation score: 0.855629\n",
      "Iteration 169, loss = 0.30048418\n",
      "Validation score: 0.851656\n",
      "Iteration 170, loss = 0.29653814\n",
      "Validation score: 0.853642\n",
      "Iteration 171, loss = 0.29321415\n",
      "Validation score: 0.852980\n",
      "Iteration 172, loss = 0.28962556\n",
      "Validation score: 0.853642\n",
      "Iteration 173, loss = 0.28666963\n",
      "Validation score: 0.852980\n",
      "Iteration 174, loss = 0.28321286\n",
      "Validation score: 0.854967\n",
      "Iteration 175, loss = 0.28013513\n",
      "Validation score: 0.852318\n",
      "Iteration 176, loss = 0.27755261\n",
      "Validation score: 0.856954\n",
      "Iteration 177, loss = 0.27418292\n",
      "Validation score: 0.855629\n",
      "Iteration 178, loss = 0.27095465\n",
      "Validation score: 0.856291\n",
      "Iteration 179, loss = 0.26817119\n",
      "Validation score: 0.854967\n",
      "Iteration 180, loss = 0.26493491\n",
      "Validation score: 0.854305\n",
      "Iteration 181, loss = 0.26198386\n",
      "Validation score: 0.852980\n",
      "Iteration 182, loss = 0.25947347\n",
      "Validation score: 0.856291\n",
      "Iteration 183, loss = 0.25649765\n",
      "Validation score: 0.856954\n",
      "Iteration 184, loss = 0.25388481\n",
      "Validation score: 0.857616\n",
      "Iteration 185, loss = 0.25038178\n",
      "Validation score: 0.856291\n",
      "Iteration 186, loss = 0.24875525\n",
      "Validation score: 0.855629\n",
      "Iteration 187, loss = 0.24603716\n",
      "Validation score: 0.859603\n",
      "Iteration 188, loss = 0.24334137\n",
      "Validation score: 0.857616\n",
      "Iteration 189, loss = 0.24031907\n",
      "Validation score: 0.854305\n",
      "Iteration 190, loss = 0.23794214\n",
      "Validation score: 0.856291\n",
      "Iteration 191, loss = 0.23592153\n",
      "Validation score: 0.856954\n",
      "Iteration 192, loss = 0.23370620\n",
      "Validation score: 0.860265\n",
      "Iteration 193, loss = 0.23113085\n",
      "Validation score: 0.856291\n",
      "Iteration 194, loss = 0.22864523\n",
      "Validation score: 0.855629\n",
      "Iteration 195, loss = 0.22647930\n",
      "Validation score: 0.854967\n",
      "Iteration 196, loss = 0.22433369\n",
      "Validation score: 0.854967\n",
      "Iteration 197, loss = 0.22229445\n",
      "Validation score: 0.861589\n",
      "Iteration 198, loss = 0.22000501\n",
      "Validation score: 0.858940\n",
      "Iteration 199, loss = 0.21805094\n",
      "Validation score: 0.858940\n",
      "Iteration 200, loss = 0.21598674\n",
      "Validation score: 0.858278\n"
     ]
    },
    {
     "name": "stderr",
     "output_type": "stream",
     "text": [
      "/usr/local/lib/python3.8/site-packages/sklearn/neural_network/_multilayer_perceptron.py:582: ConvergenceWarning: Stochastic Optimizer: Maximum iterations (200) reached and the optimization hasn't converged yet.\n",
      "  warnings.warn(\n"
     ]
    },
    {
     "data": {
      "text/plain": [
       "MLPClassifier(batch_size=32, early_stopping=True, hidden_layer_sizes=(256, 151),\n",
       "              learning_rate='adaptive', random_state=97, solver='sgd',\n",
       "              verbose=True)"
      ]
     },
     "execution_count": 63,
     "metadata": {},
     "output_type": "execute_result"
    }
   ],
   "source": [
    "classifier.fit(train_X, train_y)"
   ]
  },
  {
   "cell_type": "code",
   "execution_count": 64,
   "metadata": {},
   "outputs": [
    {
     "data": {
      "text/plain": [
       "0.8041935483870968"
      ]
     },
     "execution_count": 64,
     "metadata": {},
     "output_type": "execute_result"
    }
   ],
   "source": [
    "classifier.score(val_X, val_y)"
   ]
  },
  {
   "cell_type": "markdown",
   "metadata": {},
   "source": [
    "##### AdaBoost Classifier"
   ]
  },
  {
   "cell_type": "code",
   "execution_count": 186,
   "metadata": {},
   "outputs": [],
   "source": [
    "from sklearn.ensemble import GradientBoostingClassifier"
   ]
  },
  {
   "cell_type": "code",
   "execution_count": 189,
   "metadata": {},
   "outputs": [],
   "source": [
    "# initializer Gradient Boosting Classifier\n",
    "gb_classifier = GradientBoostingClassifier(learning_rate = 0.01, n_iter_no_change = 10, verbose = 1)"
   ]
  },
  {
   "cell_type": "code",
   "execution_count": 190,
   "metadata": {},
   "outputs": [
    {
     "name": "stdout",
     "output_type": "stream",
     "text": [
      "      Iter       Train Loss   Remaining Time \n",
      "         1           3.9994           12.71m\n",
      "         2           3.7270           13.15m\n",
      "         3           3.5334           13.10m\n",
      "         4           3.3805           12.90m\n",
      "         5           3.2546           12.78m\n",
      "         6           3.1468           12.69m\n",
      "         7           3.0531           12.53m\n",
      "         8           2.9653           12.36m\n",
      "         9           2.8891           12.20m\n",
      "        10           2.8169           12.04m\n",
      "        20           2.3170           10.60m\n",
      "        30           2.0055            9.24m\n",
      "        40           1.7720            7.91m\n",
      "        50           1.5912            6.60m\n",
      "        60           1.4391            5.27m\n",
      "        70           1.3104            3.95m\n",
      "        80           1.1980            2.63m\n",
      "        90           1.1021            1.31m\n",
      "       100           1.0179            0.00s\n"
     ]
    },
    {
     "data": {
      "text/plain": [
       "GradientBoostingClassifier(learning_rate=0.01, n_iter_no_change=10, verbose=1)"
      ]
     },
     "execution_count": 190,
     "metadata": {},
     "output_type": "execute_result"
    }
   ],
   "source": [
    "# train gb_classifier\n",
    "gb_classifier.fit(train_X, train_y)"
   ]
  },
  {
   "cell_type": "code",
   "execution_count": 191,
   "metadata": {},
   "outputs": [
    {
     "data": {
      "text/plain": [
       "0.7316129032258064"
      ]
     },
     "execution_count": 191,
     "metadata": {},
     "output_type": "execute_result"
    }
   ],
   "source": [
    "gb_classifier.score(val_X, val_y)"
   ]
  },
  {
   "cell_type": "code",
   "execution_count": 192,
   "metadata": {},
   "outputs": [
    {
     "data": {
      "text/plain": [
       "0.6163636363636363"
      ]
     },
     "execution_count": 192,
     "metadata": {},
     "output_type": "execute_result"
    }
   ],
   "source": [
    "gb_classifier.score(test_X, test_y)"
   ]
  },
  {
   "cell_type": "markdown",
   "metadata": {},
   "source": [
    "### Save model and intent list"
   ]
  },
  {
   "cell_type": "code",
   "execution_count": 25,
   "metadata": {},
   "outputs": [],
   "source": [
    "# save model\n",
    "filename = '../intent_classifier.sav'\n",
    "pickle.dump(svm, open(filename, 'wb'))"
   ]
  },
  {
   "cell_type": "code",
   "execution_count": 26,
   "metadata": {},
   "outputs": [],
   "source": [
    "# append new_line character\n",
    "labels = [label+ '\\n' for label in label_set]\n",
    "labels[-1] = labels[-1].strip('\\n')\n",
    "\n",
    "# save intent list\n",
    "with open('../intent_list.txt', 'w') as file:\n",
    "    file.writelines(labels)\n",
    "    \n",
    "# save vocabs\n",
    "with open('../vocabs.pickle', 'wb') as file:\n",
    "    vocabs = tfidf_vectorizer.vocabulary_\n",
    "    pickle.dump(vocabs, file)\n",
    "    \n",
    "# save vectorizer\n",
    "with open('../tfidf_vectorizer.pickle', 'wb') as file:\n",
    "    pickle.dump(tfidf_vectorizer, file)"
   ]
  },
  {
   "cell_type": "code",
   "execution_count": null,
   "metadata": {},
   "outputs": [],
   "source": []
  }
 ],
 "metadata": {
  "kernelspec": {
   "display_name": "Python 3",
   "language": "python",
   "name": "python3"
  },
  "language_info": {
   "codemirror_mode": {
    "name": "ipython",
    "version": 3
   },
   "file_extension": ".py",
   "mimetype": "text/x-python",
   "name": "python",
   "nbconvert_exporter": "python",
   "pygments_lexer": "ipython3",
   "version": "3.8.6"
  }
 },
 "nbformat": 4,
 "nbformat_minor": 4
}
